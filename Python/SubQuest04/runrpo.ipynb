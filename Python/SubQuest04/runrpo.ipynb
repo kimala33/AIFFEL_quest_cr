{
  "cells": [
    {
      "cell_type": "markdown",
      "metadata": {
        "id": "view-in-github",
        "colab_type": "text"
      },
      "source": [
        "<a href=\"https://colab.research.google.com/github/kimala33/AIFFEL_quest_cr/blob/main/runrpo.ipynb\" target=\"_parent\"><img src=\"https://colab.research.google.com/assets/colab-badge.svg\" alt=\"Open In Colab\"/></a>"
      ]
    },
    {
      "cell_type": "code",
      "execution_count": 4,
      "metadata": {
        "colab": {
          "base_uri": "https://localhost:8080/"
        },
        "id": "toXu7XEaY6EG",
        "outputId": "3d8b558d-bb6a-4ba4-f7c8-7633d1632d7b"
      },
      "outputs": [
        {
          "output_type": "stream",
          "name": "stdout",
          "text": [
            "첫 번째 정수를 입력해주세요: 0.5\n",
            "잘못된 입력입니다. 정수를 입력하세요.\n",
            "첫 번째 정수를 입력해주세요: 10\n",
            "두 번째 정수를 입력해주세요: 0\n",
            "연산자를 입력해주세요(+, -, /, *, **): \n",
            "/\n",
            "0으로 나눌 수 없습니다.\n",
            "첫 번째 정수를 입력해주세요: 10\n",
            "두 번째 정수를 입력해주세요: 2\n",
            "연산자를 입력해주세요(+, -, /, *, **): \n",
            "///\n",
            "잘못된 연산자입니다.\n",
            "첫 번째 정수를 입력해주세요: 2\n",
            "두 번째 정수를 입력해주세요: 8\n",
            "연산자를 입력해주세요(+, -, /, *, **): \n",
            "**\n",
            "계산 결과: 256.0\n",
            "\n",
            "계속 계산하시겠습니까? (y/n): \n",
            "n\n",
            "계산을 종료합니다.\n"
          ]
        }
      ],
      "source": [
        "# math 모듈 가져오기\n",
        "import math\n",
        "# 숫자를 입력받고 검증하는 함수\n",
        "def get_number(prompt): # 사용자에게 보여줄 입력 안내 메시지\n",
        "    while True: # 올바른 입력을 받을 때까지 반복\n",
        "        try: # 오류가 발생할 수 있는 코드 실행\n",
        "            return int(input(prompt)) # 사용자 입력을 정수로 변환\n",
        "        except ValueError: # 정수로 변환할 수 없는 입력값 오류\n",
        "            print(\"잘못된 입력입니다. 정수를 입력하세요.\") # 오류 메세지 출력\n",
        "\n",
        "def calculator(): # 계산기 메인 함수\n",
        "    while True: # 프로그램 종료를 선택할 때까지 반복\n",
        "        try: # 오류가 발생할 수 있는 코드 확인 시작\n",
        "            num1 = get_number(\"첫 번째 정수를 입력해주세요: \")\n",
        "            num2 = get_number(\"두 번째 정수를 입력해주세요: \")\n",
        "\n",
        "            print(\"연산자를 입력해주세요(+, -, /, *, **): \")\n",
        "            operator = input()\n",
        "\n",
        "            if operator == \"+\":\n",
        "                result = num1 + num2\n",
        "            elif operator == \"-\":\n",
        "                result = num1 - num2\n",
        "            elif operator == \"*\":\n",
        "                result = num1 * num2\n",
        "            elif operator == \"/\":\n",
        "                if num2 == 0: # 두번째 숫자가 0인경우 체크\n",
        "                    print(\"0으로 나눌 수 없습니다.\")\n",
        "                    continue # 처음으로 돌아가기\n",
        "                result = num1 / num2\n",
        "            elif operator == \"**\":\n",
        "                result = math.pow(num1, num2) # math.pow(num1, 2)에서 2를 고정값으로 사용하여 계산 오류(수정완료)\n",
        "            else: # 지원하지 않는 연산자 입력시\n",
        "                print(\"잘못된 연산자입니다.\")\n",
        "                continue # 처음으로 돌아가기\n",
        "\n",
        "            print(f\"계산 결과: {result}\") # 계산 결과 출력\n",
        "\n",
        "            print(\"\\n계속 계산하시겠습니까? (y/n): \")\n",
        "            answer = input() # 사용자 응답 받기\n",
        "            if answer.lower() != \"y\": # 소문자로 변환해서 'y'와 비교하기\n",
        "                print(\"계산을 종료합니다.\")\n",
        "                break # 반복문 종료\n",
        "\n",
        "        except ValueError: # 숫자 변환 실패시 예외 처리\n",
        "            print(\"잘못된 입력입니다. 정수를 입력해주세요\")\n",
        "        except: # 그외 모든 예외 처리\n",
        "            print(\"오류가 발생했습니다. 다시 시도해주세요.\")\n",
        "# 프로그램 실행\n",
        "calculator() # calculator함수 호출하여 계산기 실행"
      ]
    },
    {
      "cell_type": "markdown",
      "source": [
        "# 회고\n",
        "\n",
        "최유진 : 같이 한 그루님이 조건이나 계획을 적어놓고 진행하셨는데, 그런 체계적인 모습을 본받아야 겠다고 생각했다.\n",
        "\n",
        "김태성 : 모르는게 너무 많았다. 불필요한 코드도 많이 작성했고,  \n",
        "같은 페어 그루님의 코드를 이해 못하고 그냥 무작정 작성하다보니 오류가 났다.  \n",
        "그리고 같이 페어를 하신 그루님의 많은 도움이 있어서 코드를 완성할 수 있었다.  \n",
        "아직 갈길이 먼 것 같다."
      ],
      "metadata": {
        "id": "Q_8FglgQcN9U"
      }
    }
  ],
  "metadata": {
    "colab": {
      "provenance": [],
      "include_colab_link": true
    },
    "kernelspec": {
      "display_name": "Python 3",
      "name": "python3"
    },
    "language_info": {
      "name": "python"
    }
  },
  "nbformat": 4,
  "nbformat_minor": 0
}
