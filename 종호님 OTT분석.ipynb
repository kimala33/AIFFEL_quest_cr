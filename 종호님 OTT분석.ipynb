{
  "cells": [
    {
      "cell_type": "markdown",
      "metadata": {
        "id": "view-in-github",
        "colab_type": "text"
      },
      "source": [
        "<a href=\"https://colab.research.google.com/github/kimala33/AIFFEL_quest_cr/blob/main/%EC%A2%85%ED%98%B8%EB%8B%98%20OTT%EB%B6%84%EC%84%9D.ipynb\" target=\"_parent\"><img src=\"https://colab.research.google.com/assets/colab-badge.svg\" alt=\"Open In Colab\"/></a>"
      ]
    },
    {
      "cell_type": "code",
      "execution_count": null,
      "metadata": {
        "colab": {
          "base_uri": "https://localhost:8080/"
        },
        "id": "SOwQAMlrb1EI",
        "outputId": "1fd6c712-bfa5-45ec-8338-6decb9cc701a"
      },
      "outputs": [
        {
          "output_type": "stream",
          "name": "stdout",
          "text": [
            "Drive already mounted at /content/drive; to attempt to forcibly remount, call drive.mount(\"/content/drive\", force_remount=True).\n"
          ]
        }
      ],
      "source": [
        "from google.colab import drive\n",
        "drive.mount('/content/drive')\n"
      ]
    },
    {
      "cell_type": "code",
      "execution_count": null,
      "metadata": {
        "collapsed": true,
        "id": "mGaPA-htwemR"
      },
      "outputs": [],
      "source": [
        "#데이터셋 읽기\n",
        "import pandas as pd\n",
        "file_name_list = ['netflix_titles', 'disney_plus_titles', 'amazon_prime_titles']\n",
        "root_path = '/content/drive/My Drive/Colab Notebooks/data/'\n",
        "file_ext = 'csv'\n",
        "# 여러 파일을 읽어서 하나의 데이터프레임으로 합치기\n",
        "dataframes = []  # 데이터를 저장할 리스트\n",
        "\n",
        "for file_name in file_name_list:\n",
        "    file_path = f\"{root_path}{file_name}.{file_ext}\"  # 경로 생성\n",
        "    df = pd.read_csv(file_path)  # CSV 파일 읽기\n",
        "\n",
        "    # 파일명을 가공해 새로운 필드 추가\n",
        "    platform_name = file_name.split('_titles')[0]  # '_titles' 앞부분 추출\n",
        "    df['platform'] = platform_name  # 새로운 열 추가\n",
        "\n",
        "    dataframes.append(df)  # 리스트에 추가\n",
        "\n",
        "# 데이터프레임 결합\n",
        "combined_data = pd.concat(dataframes, ignore_index=True)\n"
      ]
    },
    {
      "cell_type": "code",
      "source": [],
      "metadata": {
        "id": "NRI1uECtEHAn"
      },
      "execution_count": null,
      "outputs": []
    },
    {
      "cell_type": "markdown",
      "source": [
        "## OTT 플랫폼별 제작국가와 장르의 상관관계 분석\n",
        "1. 데이터 분석처리 과정\n",
        "- 장르의 종류 축소 1330가지의 장르 >> 90개로 축소(비슷한 장르를 하나로 묶는작업)\n",
        "- 통합되어있는 자료의 상위 5개 국가 추출, 그 국가들의 상위 3개의 장르 추출후 그래프화\n",
        "- 통화되어 있는 자료 넷플릭스, 디즈니, 아마존으로 세분화 작업후 그래프화\n",
        "\n",
        "2. 분석된 데이터 및 그래프가 말하는 내용\n",
        "1등 미국은 코미디, 드라마, 어드벤쳐 순으로 많은 영상을 제작\n",
        "2등 인도는 인터네셔널영화, 드라마, 코미디 순으로 많은 영상을 제작\n",
        "3,4,5등 영국, 일본, 한국은 TV쇼를 위주로 제작을 했다는것을 알수 있었다.\n",
        "\n",
        "3. 해당 내용이 우리의 타겟에게 어필할 수 있는것\n",
        "많이 만든다고 반드시 흥행한다는 것은 아니지만 투자를 받아야 제작이 가능하다는것을 전제하에 한국의 경우 TV쇼에 너무 국한된 느낌이 보여서 코미디, 드라마 제작 비중을 늘려가는것이 투자자의 관점에서 좀더 매력적으로 보일수 있을것 같다.\n"
      ],
      "metadata": {
        "id": "4_gFYTlHxf2E"
      }
    },
    {
      "cell_type": "code",
      "execution_count": null,
      "metadata": {
        "id": "z2sImuXq0zaE",
        "collapsed": true
      },
      "outputs": [],
      "source": [
        "#필요없는 데이터는 제거\n",
        "combined_data = combined_data.drop(['show_id','type','title','director','cast','date_added','release_year','rating','duration','description'], axis =1) # 분석에 필요한 country,genres,platform만 남기고 drop\n"
      ]
    },
    {
      "cell_type": "markdown",
      "source": [
        "#1. 데이터 분석처리 과정(장르 리스트의 축소과정)"
      ],
      "metadata": {
        "id": "9PYS4yHwez7H"
      }
    },
    {
      "cell_type": "code",
      "execution_count": null,
      "metadata": {
        "colab": {
          "base_uri": "https://localhost:8080/"
        },
        "id": "2QDPAl6F6iFp",
        "outputId": "afa6c0b6-7970-48f1-e52f-7442ff696e2b"
      },
      "outputs": [
        {
          "output_type": "stream",
          "name": "stderr",
          "text": [
            "[nltk_data] Downloading package wordnet to /root/nltk_data...\n",
            "[nltk_data]   Package wordnet is already up-to-date!\n"
          ]
        },
        {
          "output_type": "execute_result",
          "data": {
            "text/plain": [
              "True"
            ]
          },
          "metadata": {},
          "execution_count": 36
        }
      ],
      "source": [
        "import nltk\n",
        "nltk.download('wordnet')"
      ]
    },
    {
      "cell_type": "code",
      "source": [],
      "metadata": {
        "id": "f-ef2dMoP6PI"
      },
      "execution_count": null,
      "outputs": []
    },
    {
      "cell_type": "code",
      "execution_count": null,
      "metadata": {
        "colab": {
          "base_uri": "https://localhost:8080/",
          "height": 676
        },
        "id": "BGmDrFRcidHS",
        "outputId": "c651d64a-9862-419d-dbbe-26d3a6d1a058"
      },
      "outputs": [
        {
          "output_type": "display_data",
          "data": {
            "text/plain": [
              "<Figure size 800x800 with 1 Axes>"
            ],
            "image/png": "[encoded data removed]"
          },
          "metadata": {}
        }
      ],
      "source": [
        "#비슷한 장르를 하나로 묶는작업\n",
        "import difflib\n",
        "from nltk.stem import WordNetLemmatizer\n",
        "import matplotlib.pyplot as plt\n",
        "\n",
        "# WordNetLemmatizer 초기화\n",
        "lemmatizer = WordNetLemmatizer()\n",
        "\n",
        "# 유사한 장르를 그룹화하는 함수\n",
        "def group_similar_genres(genres, threshold=0.8):\n",
        "    unique_genres = list(set(genres))  # 고유한 장르 목록\n",
        "    grouped_genres = {}\n",
        "\n",
        "    for genre in unique_genres:\n",
        "        # 복수형을 단수형으로 변환\n",
        "        genre_singular = lemmatizer.lemmatize(genre.lower())\n",
        "        matched = False\n",
        "        for key in grouped_genres:\n",
        "            # 유사도 계산 (difflib)\n",
        "            similarity = difflib.SequenceMatcher(None, genre_singular, key.lower()).ratio()\n",
        "            if similarity >= threshold:\n",
        "                grouped_genres[key].append(genre)\n",
        "                matched = True\n",
        "                break\n",
        "        if not matched:\n",
        "            grouped_genres[genre_singular] = [genre]\n",
        "\n",
        "    # 그룹화된 결과 반환\n",
        "    return grouped_genres\n",
        "\n",
        "\n",
        "combined_data['genres'] = combined_data['listed_in'].apply(lambda x: x.split(', ') if pd.notna(x) else [])\n",
        "\n",
        "# 장르 목록을 combined_data에서 가져오는 예시 (combined_data['genres']에 장르 목록이 있다고 가정)\n",
        "all_genres = [genre for genres in combined_data['genres'] for genre in genres]\n",
        "\n",
        "# 유사한 장르명 그룹화\n",
        "grouped_genres = group_similar_genres(all_genres, threshold=0.8)\n",
        "\n",
        "# 원핫 인코딩 열을 만들 때, 그룹화된 장르명에 대해 원핫 인코딩을 적용\n",
        "def generate_one_hot_encoding(df, grouped_genres):\n",
        "    # 고유한 장르 그룹을 가져옴\n",
        "    unique_genre_groups = list(grouped_genres.keys())\n",
        "\n",
        "    # 원핫 인코딩 열 생성\n",
        "    for genre_group in unique_genre_groups:\n",
        "        column_name = f'genre_{genre_group.replace(\" \", \"_\")}'\n",
        "        df[column_name] = df['genres'].apply(\n",
        "            lambda x: 1 if any(g.lower() in map(str.lower, grouped_genres[genre_group]) for g in x) else 0\n",
        "        )\n",
        "\n",
        "    return df\n",
        "\n",
        "\n",
        "# 원본 데이터프레임에서 원핫 인코딩 적용\n",
        "combined_data_with_one_hot = generate_one_hot_encoding(combined_data.copy(), grouped_genres)\n",
        "\n",
        "# 장르별 등장 횟수를 계산 (원핫 인코딩된 열만 사용)\n",
        "genre_counts = combined_data_with_one_hot[[\n",
        "    f'genre_{group.replace(\" \", \"_\")}' for group in grouped_genres.keys()\n",
        "]].sum()\n",
        "\n",
        "# 장르별 등장 횟수를 내림차순으로 정렬하고, 상위 4개 장르를 추출합니다.\n",
        "top_10_genres = genre_counts.sort_values(ascending=False).head(4)\n",
        "\n",
        "#가장 인기있는 장르 1~4위 추출\n",
        "# 장르별 등장 횟수를 계산 (원핫 인코딩된 열만 사용)\n",
        "genre_counts = combined_data_with_one_hot[[\n",
        "    f'genre_{group.replace(\" \", \"_\")}' for group in grouped_genres.keys()\n",
        "]].sum()\n",
        "\n",
        "# 장르별 등장 횟수를 내림차순으로 정렬하고, 상위 4개 장르를 추출합니다.\n",
        "top_10_genres = genre_counts.sort_values(ascending=False).head(10)\n",
        "\n",
        "# 원형 차트로 시각화\n",
        "plt.figure(figsize=(8, 8))\n",
        "top_10_genres.plot(kind='pie', autopct='%1.1f%%', startangle=90, colors=['skyblue', 'lightcoral', 'lightgreen', 'lightyellow'], legend=False)\n",
        "plt.title('Top 10 Popular Genres', fontsize=14)\n",
        "plt.ylabel('')  # ylabel 제거\n",
        "plt.show()"
      ]
    },
    {
      "cell_type": "markdown",
      "source": [
        "#넷플릭스 + 디즈니 + 아마존 전체 데이터의\n",
        "#제작 상위 5개 국가 및 그 국가들이 만든 상위 3개의 장르"
      ],
      "metadata": {
        "id": "YrQb-ZvxfnqT"
      }
    },
    {
      "cell_type": "code",
      "source": [
        "clean_df = combined_data_with_one_hot.drop(['listed_in'],axis =1)"
      ],
      "metadata": {
        "id": "uFhTfpC1JdX0"
      },
      "execution_count": null,
      "outputs": []
    },
    {
      "cell_type": "code",
      "source": [
        "genre_columns"
      ],
      "metadata": {
        "id": "eZODIcewPEFp"
      },
      "execution_count": null,
      "outputs": []
    },
    {
      "cell_type": "code",
      "source": [
        "import matplotlib.pyplot as plt\n",
        "import seaborn as sns\n",
        "import math\n",
        "\n",
        "# 'genre_'로 시작하는 컬럼 선택\n",
        "genre_columns = [col for col in clean_df.columns if col.startswith('genre_')]\n",
        "\n",
        "# 국가별 장르 분포 계산\n",
        "country_genre = clean_df.groupby('country')[genre_columns].sum()\n",
        "\n",
        "# 국가별 장르 합계 계산 및 상위 5개 국가 선택\n",
        "country_genre['total'] = country_genre.sum(axis=1)\n",
        "top_countries = country_genre.nlargest(5, 'total').index\n",
        "top_country_genre = country_genre.loc[top_countries].drop(columns='total')\n",
        "\n",
        "# 각 국가별 상위 3개 장르 선택 및 결과 저장\n",
        "result = {}\n",
        "for country in top_country_genre.index:\n",
        "    top_genres = top_country_genre.loc[country].nlargest(3)\n",
        "    result[country] = top_genres\n",
        "\n",
        "# 결과를 데이터프레임으로 변환\n",
        "result_df = pd.DataFrame(result)\n",
        "\n",
        "# subplot 생성 (3행 2열)\n",
        "num_cols = 2  # 열의 개수\n",
        "num_rows = math.ceil(len(result_df.columns) / num_cols)  # 행의 개수 계산\n",
        "fig, axes = plt.subplots(num_rows, num_cols, figsize=(15, 12))  # figsize 조정\n",
        "\n",
        "# subplot에 그래프 그리기\n",
        "for i, country in enumerate(result_df.columns):\n",
        "    row_idx = i // num_cols  # 행 인덱스 계산\n",
        "    col_idx = i % num_cols  # 열 인덱스 계산\n",
        "    ax = axes[row_idx, col_idx]  # 현재 subplot 선택\n",
        "\n",
        "    country_data = result_df[country].dropna().sort_values(ascending=False)\n",
        "    sns.barplot(x=country_data.index, y=country_data.values, hue=country_data.index, palette='viridis', legend=False, ax=ax)\n",
        "    ax.set_title(f'Top 5 Genres in {country}', fontsize=12)\n",
        "    ax.set_xlabel('Genre', fontsize=8)\n",
        "    ax.set_ylabel('Count', fontsize=12)\n",
        "    ax.tick_params(axis='x')\n",
        "\n",
        "# 사용하지 않는 subplot 숨기기\n",
        "for i in range(len(result_df.columns), num_rows * num_cols):\n",
        "    row_idx = i // num_cols\n",
        "    col_idx = i % num_cols\n",
        "    fig.delaxes(axes[row_idx, col_idx])\n",
        "\n",
        "plt.tight_layout()\n",
        "plt.show()\n",
        "\n",
        "for country in result_df.columns:\n",
        "    print(f\"\\n{country}:\")\n",
        "    country_data = result_df[country].dropna()\n",
        "    for genre, value in country_data.items():\n",
        "        print(f\"  {genre}: {value}\")\n"
      ],
      "metadata": {
        "id": "MGKy8wkrKE9i"
      },
      "execution_count": null,
      "outputs": []
    },
    {
      "cell_type": "markdown",
      "source": [
        "#통합되어있는 자료를 각각의 플래폼으로 분리하는 코드"
      ],
      "metadata": {
        "id": "IdhcOUtMhFJC"
      }
    },
    {
      "cell_type": "code",
      "source": [
        "#통합되어있는 자료를 각각의 플래폼으로 분리하는 코드\n",
        "netflix_df = clean_df[clean_df['platform'] == 'netflix']\n",
        "disney_df = clean_df[clean_df['platform'] == 'disney_plus']\n",
        "amazon_df = clean_df[clean_df['platform'] == 'amazon_prime']"
      ],
      "metadata": {
        "id": "-1cDaRPtMCWY"
      },
      "execution_count": null,
      "outputs": []
    },
    {
      "cell_type": "markdown",
      "source": [
        "#넷플릭스 데이터의\n",
        "#제작 상위 5개 국가 및 그 국가들이 만든 상위 3개의 장르\n",
        "#그래프"
      ],
      "metadata": {
        "id": "uXSrp5d-hQDp"
      }
    },
    {
      "cell_type": "code",
      "source": [
        "#넷플릭스\n",
        "import matplotlib.pyplot as plt\n",
        "import seaborn as sns\n",
        "\n",
        "# 'genre_'로 시작하는 컬럼 선택\n",
        "genre_columns = [col for col in netflix_df.columns if col.startswith('genre_')]\n",
        "\n",
        "# 국가별 장르 분포 계산\n",
        "country_genre = netflix_df.groupby('country')[genre_columns].sum()\n",
        "\n",
        "# 국가별 장르 합계 계산 및 상위 5개 국가 선택\n",
        "country_genre['total'] = country_genre.sum(axis=1)\n",
        "top_countries = country_genre.nlargest(5, 'total').index\n",
        "top_country_genre = country_genre.loc[top_countries].drop(columns='total')\n",
        "\n",
        "# 각 국가별 상위 3개 장르 선택 및 결과 저장\n",
        "result = {}\n",
        "for country in top_country_genre.index:\n",
        "    top_genres = top_country_genre.loc[country].nlargest(3)\n",
        "    result[country] = top_genres\n",
        "\n",
        "# 결과를 데이터프레임으로 변환\n",
        "result_df = pd.DataFrame(result)\n",
        "\n",
        "# subplot 생성 (3행 2열)\n",
        "num_cols = 2  # 열의 개수\n",
        "num_rows = math.ceil(len(result_df.columns) / num_cols)  # 행의 개수 계산\n",
        "fig, axes = plt.subplots(num_rows, num_cols, figsize=(15, 12))  # figsize 조정\n",
        "\n",
        "# subplot에 그래프 그리기\n",
        "for i, country in enumerate(result_df.columns):\n",
        "    row_idx = i // num_cols  # 행 인덱스 계산\n",
        "    col_idx = i % num_cols  # 열 인덱스 계산\n",
        "    ax = axes[row_idx, col_idx]  # 현재 subplot 선택\n",
        "\n",
        "    country_data = result_df[country].dropna().sort_values(ascending=False)\n",
        "    sns.barplot(x=country_data.index, y=country_data.values, hue=country_data.index, palette='viridis', legend=False, ax=ax)\n",
        "    ax.set_title(f'Top 5 Genres in {country}', fontsize=12)\n",
        "    ax.set_xlabel('Genre', fontsize=8)\n",
        "    ax.set_ylabel('Count', fontsize=12)\n",
        "    ax.tick_params(axis='x')\n",
        "\n",
        "# 사용하지 않는 subplot 숨기기\n",
        "for i in range(len(result_df.columns), num_rows * num_cols):\n",
        "    row_idx = i // num_cols\n",
        "    col_idx = i % num_cols\n",
        "    fig.delaxes(axes[row_idx, col_idx])\n",
        "\n",
        "plt.tight_layout()\n",
        "plt.show()\n",
        "\n",
        "for country in result_df.columns:\n",
        "    print(f\"\\n{country}:\")\n",
        "    country_data = result_df[country].dropna()\n",
        "    for genre, value in country_data.items():\n",
        "        print(f\"  {genre}: {value}\")"
      ],
      "metadata": {
        "id": "VG-6gCIIgs_z"
      },
      "execution_count": null,
      "outputs": []
    },
    {
      "cell_type": "markdown",
      "source": [
        "#디즈니 데이터의\n",
        "#제작 상위 5개 국가 및 그 국가들이 만든 상위 3개의 장르\n",
        "#그래프"
      ],
      "metadata": {
        "id": "nxRBTh7ehZMh"
      }
    },
    {
      "cell_type": "code",
      "source": [
        "#디즈니\n",
        "import matplotlib.pyplot as plt\n",
        "import seaborn as sns\n",
        "\n",
        "# 'genre_'로 시작하는 컬럼 선택\n",
        "genre_columns = [col for col in disney_df.columns if col.startswith('genre_')]\n",
        "\n",
        "# 국가별 장르 분포 계산\n",
        "country_genre = disney_df.groupby('country')[genre_columns].sum()\n",
        "\n",
        "# 국가별 장르 합계 계산 및 상위 5개 국가 선택\n",
        "country_genre['total'] = country_genre.sum(axis=1)\n",
        "top_countries = country_genre.nlargest(5, 'total').index\n",
        "top_country_genre = country_genre.loc[top_countries].drop(columns='total')\n",
        "\n",
        "# 각 국가별 상위 3개 장르 선택 및 결과 저장\n",
        "result = {}\n",
        "for country in top_country_genre.index:\n",
        "    top_genres = top_country_genre.loc[country].nlargest(3)\n",
        "    result[country] = top_genres\n",
        "\n",
        "# 결과를 데이터프레임으로 변환\n",
        "result_df = pd.DataFrame(result)\n",
        "\n",
        "# subplot 생성 (3행 2열)\n",
        "num_cols = 2  # 열의 개수\n",
        "num_rows = math.ceil(len(result_df.columns) / num_cols)  # 행의 개수 계산\n",
        "fig, axes = plt.subplots(num_rows, num_cols, figsize=(15, 12))  # figsize 조정\n",
        "\n",
        "# subplot에 그래프 그리기\n",
        "for i, country in enumerate(result_df.columns):\n",
        "    row_idx = i // num_cols  # 행 인덱스 계산\n",
        "    col_idx = i % num_cols  # 열 인덱스 계산\n",
        "    ax = axes[row_idx, col_idx]  # 현재 subplot 선택\n",
        "\n",
        "    country_data = result_df[country].dropna().sort_values(ascending=False)\n",
        "    sns.barplot(x=country_data.index, y=country_data.values, hue=country_data.index, palette='viridis', legend=False, ax=ax)\n",
        "    ax.set_title(f'Top 5 Genres in {country}', fontsize=12)\n",
        "    ax.set_xlabel('Genre', fontsize=8)\n",
        "    ax.set_ylabel('Count', fontsize=12)\n",
        "    ax.tick_params(axis='x')\n",
        "\n",
        "# 사용하지 않는 subplot 숨기기\n",
        "for i in range(len(result_df.columns), num_rows * num_cols):\n",
        "    row_idx = i // num_cols\n",
        "    col_idx = i % num_cols\n",
        "    fig.delaxes(axes[row_idx, col_idx])\n",
        "\n",
        "plt.tight_layout()\n",
        "plt.show()\n",
        "\n",
        "for country in result_df.columns:\n",
        "    print(f\"\\n{country}:\")\n",
        "    country_data = result_df[country].dropna()\n",
        "    for genre, value in country_data.items():\n",
        "        print(f\"  {genre}: {value}\")"
      ],
      "metadata": {
        "id": "NNcsnGzVhB0e"
      },
      "execution_count": null,
      "outputs": []
    },
    {
      "cell_type": "markdown",
      "source": [
        "#아마존 전체 데이터의\n",
        "#제작 상위 5개 국가 및 그 국가들이 만든 상위 3개의 장르\n",
        "#그래프"
      ],
      "metadata": {
        "id": "VQE92gaLheO8"
      }
    },
    {
      "cell_type": "code",
      "source": [
        "#아마존\n",
        "import matplotlib.pyplot as plt\n",
        "import seaborn as sns\n",
        "\n",
        "# 'genre_'로 시작하는 컬럼 선택\n",
        "genre_columns = [col for col in amazon_df.columns if col.startswith('genre_')]\n",
        "\n",
        "# 국가별 장르 분포 계산\n",
        "country_genre = amazon_df.groupby('country')[genre_columns].sum()\n",
        "\n",
        "# 국가별 장르 합계 계산 및 상위 5개 국가 선택\n",
        "country_genre['total'] = country_genre.sum(axis=1)\n",
        "top_countries = country_genre.nlargest(5, 'total').index\n",
        "top_country_genre = country_genre.loc[top_countries].drop(columns='total')\n",
        "\n",
        "# 각 국가별 상위 3개 장르 선택 및 결과 저장\n",
        "result = {}\n",
        "for country in top_country_genre.index:\n",
        "    top_genres = top_country_genre.loc[country].nlargest(3)\n",
        "    result[country] = top_genres\n",
        "\n",
        "# 결과를 데이터프레임으로 변환\n",
        "result_df = pd.DataFrame(result)\n",
        "\n",
        "# subplot 생성 (3행 2열)\n",
        "num_cols = 2  # 열의 개수\n",
        "num_rows = math.ceil(len(result_df.columns) / num_cols)  # 행의 개수 계산\n",
        "fig, axes = plt.subplots(num_rows, num_cols, figsize=(15, 12))  # figsize 조정\n",
        "\n",
        "# subplot에 그래프 그리기\n",
        "for i, country in enumerate(result_df.columns):\n",
        "    row_idx = i // num_cols  # 행 인덱스 계산\n",
        "    col_idx = i % num_cols  # 열 인덱스 계산\n",
        "    ax = axes[row_idx, col_idx]  # 현재 subplot 선택\n",
        "\n",
        "    country_data = result_df[country].dropna().sort_values(ascending=False)\n",
        "    sns.barplot(x=country_data.index, y=country_data.values, hue=country_data.index, palette='viridis', legend=False, ax=ax)\n",
        "    ax.set_title(f'Top 5 Genres in {country}', fontsize=12)\n",
        "    ax.set_xlabel('Genre', fontsize=8)\n",
        "    ax.set_ylabel('Count', fontsize=12)\n",
        "    ax.tick_params(axis='x')\n",
        "\n",
        "# 사용하지 않는 subplot 숨기기\n",
        "for i in range(len(result_df.columns), num_rows * num_cols):\n",
        "    row_idx = i // num_cols\n",
        "    col_idx = i % num_cols\n",
        "    fig.delaxes(axes[row_idx, col_idx])\n",
        "\n",
        "plt.tight_layout()\n",
        "plt.show()\n",
        "\n",
        "for country in result_df.columns:\n",
        "    print(f\"\\n{country}:\")\n",
        "    country_data = result_df[country].dropna()\n",
        "    for genre, value in country_data.items():\n",
        "        print(f\"  {genre}: {value}\")"
      ],
      "metadata": {
        "id": "AGtYz4QIh7QW"
      },
      "execution_count": null,
      "outputs": []
    },
    {
      "cell_type": "markdown",
      "source": [
        "## OTT 플랫폼별 제작국가와 장르의 상관관계 분석\n",
        "1. 데이터 분석처리 과정\n",
        "- 장르의 종류 축소 1330가지의 장르 >> 90개로 축소(비슷한 장르를 하나로 묶는작업)\n",
        "- 통합되어있는 자료의 상위 5개 국가 추출, 그 국가들의 상위 3개의 장르 추출후 그래프화\n",
        "- 통화되어 있는 자료 넷플릭스, 디즈니, 아마존으로 세분화 작업후 그래프화\n",
        "\n",
        "2. 분석된 데이터 및 그래프가 말하는 내용\n",
        "1등 미국은 코미디, 드라마, 어드벤쳐 순으로 많은 영상을 제작\n",
        "2등 인도는 인터네셔널영화, 드라마, 코미디 순으로 많은 영상을 제작\n",
        "3,4,5등 영국, 일본, 한국은 TV쇼를 위주로 제작을 했다는것을 알수 있었다.\n",
        "\n",
        "3. 해당 내용이 우리의 타겟에게 어필할 수 있는것\n",
        "많이 만든다고 반드시 흥행한다는 것은 아니지만 투자를 받아야 제작이 가능하다는것을 전제하에 한국의 경우 TV쇼에 너무 국한된 느낌이 보여서 코미디, 드라마 제작 비중을 늘려가는것이 투자자의 관점에서 좀더 매력적으로 보일수 있을것 같다."
      ],
      "metadata": {
        "id": "eeWEf8CMgcQI"
      }
    },
    {
      "cell_type": "markdown",
      "source": [
        "|플래폼|넷플릭스|디즈니|아마존|\n",
        "|--|--|--|--|\n",
        "\n",
        "##플램폼 통합 순위\n",
        "1. 미국:\n",
        "  1. 코미디: 1005.0\n",
        "  2. 드라마: 799.0\n",
        "  3. 액션-어드벤쳐: 630.0\n",
        "  \n",
        "2. 인도:\n",
        "  1. 인터네셔널 영화: 817.0\n",
        "  2. 드라마: 755.0\n",
        "  3. 코미디: 378.0\n",
        "  \n",
        "3. 영국:\n",
        "  1. 영국 tv 쇼: 196.0\n",
        "  2. 인터네셔널 TV쇼: 112.0\n",
        "  3. 다큐멘터리: 102.0\n",
        "  \n",
        "4. 일본:\n",
        "  1. 인터네셔널 TV쇼: 141.0\n",
        "  2. 애니메이션 시리즈: 131.0\n",
        "  3. 인터네셔널 영화: 58.0\n",
        "  \n",
        "5. 한국:\n",
        "  1. 인터네셔널 TV쇼: 149.0\n",
        "  2. 한국 TV 쇼: 130.0\n",
        "  3. 로맨틱 TV 쇼: 75.0\n",
        "-----------------------------------------------------------------\n",
        "##넷플릭스\n",
        "1. 미국:\n",
        "  1. 드라마: 591.0\n",
        "  2. 코미디: 524.0\n",
        "  3. 다큐멘터리: 411.0\n",
        "  \n",
        "2. 인도:\n",
        "  1. 인터네셔널 영화: 817.0\n",
        "  2. 드라마: 620.0\n",
        "  3. 코미디: 308.0\n",
        "  \n",
        "3. 영국:\n",
        "  1. 영국 tv 쇼: 196.0\n",
        "  2. 인터네셔널 TV쇼: 112.0\n",
        "  3. 다큐멘터리: 84.0\n",
        "  \n",
        "4. 일본:\n",
        "  1. 인터네셔널 TV쇼: 141.0\n",
        "  2. 애니메이션 시리즈: 131.0\n",
        "  3. 인터네셔널 영화: 58.0\n",
        "  \n",
        "5. 한국:\n",
        "  1. 인터네셔널 TV쇼: 149.0\n",
        "  2. 한국 TV 쇼: 130.0\n",
        "  3. 로맨틱 TV 쇼: 75.0\n",
        "--------------------------------------------------------------------\n",
        "##디즈니\n",
        "1. 미국:\n",
        "  1. 가족: 501.0\n",
        "  2. 코미디: 412.0\n",
        "  3. 애니메이션: 403.0\n",
        "    \n",
        "2. 미국, 캐나다:\n",
        "  1. 코미디: 16.0\n",
        "  2. 액션-어드벤쳐: 11.0\n",
        "  3. 판타지: 9.0\n",
        "\n",
        "3. 미국, 영국:\n",
        "  1. 가족: 14.0\n",
        "  2. 액션-어드벤쳐: 11.0\n",
        "  3. 코미디: 7.0\n",
        "  \n",
        "4. 영국:\n",
        "  1. genre_docuseries: 11.0\n",
        "  2. 다큐멘터리: 8.0\n",
        "  3. 역사: 8.0\n",
        "\n",
        "5. 캐나다, 미국:\n",
        "  1. 코미디: 7.0\n",
        "  2. genre_coming_of_age: 6.0\n",
        "  3. 드라마: 6.0\n",
        "---------------------------------------------------------\n",
        "##아마존\n",
        "\n",
        "1. 인도:\n",
        "  1. 드라마: 135.0\n",
        "  2. 코미디: 70.0\n",
        "  3. genre_international: 128.0\n",
        "\n",
        "2. 미국:\n",
        "  1. 드라마: 109.0\n",
        "  2. 코미디: 69.0\n",
        "  3. 서스펜스: 55.0\n",
        "\n",
        "3. 영국:\n",
        "  1. 다큐멘터리: 10.0\n",
        "  2. 코미디: 5.0\n",
        "  3. 드라마: 5.0\n",
        "\n",
        "4. 캐나다:\n",
        "  1. 다큐멘터리: 7.0\n",
        "  2. 드라마: 5.0\n",
        "  3. genre_special_interest: 4.0\n",
        "\n",
        "5. 영국, 미국:\n",
        "  1. 드라마: 6.0\n",
        "  2. 코미디: 5.0\n",
        "  3. 액션: 3.0\n",
        "--------------------------------------------------------------------------------\n",
        "\n"
      ],
      "metadata": {
        "id": "1K8_Ot9ygah9"
      }
    },
    {
      "cell_type": "markdown",
      "source": [
        "\n",
        "## 회고 - 박종호\n",
        "- netflex 총 8803개의 자료중 7976개 사용\n",
        "- disney 총 1231개의 자료중 219개 사용\n",
        "- amazon 총 8996개의 자료중 672개 사용\n",
        "\n",
        "country의 null값이 있는것을 제외하였더나 남은 데이터가 많이 없었다. 그나마 netflex정도만 정확한 데이터를 얻을수 있었다고 생각이 들어서 많이 아쉬웠다.\n",
        "\n",
        "또한 나라별 공동제작이 되어 있는부분들을 따로 분리하지 못하였지만 그것도 그것 나름의 가치가 있는 데이터라 여겨졌다.\n",
        "\n",
        "챗GPT만세...\n",
        "\n",
        "\n",
        "\n",
        "\n"
      ],
      "metadata": {
        "id": "MtDx3DF08Nb7"
      }
    }
  ],
  "metadata": {
    "colab": {
      "provenance": [],
      "include_colab_link": true
    },
    "kernelspec": {
      "display_name": "Python 3",
      "name": "python3"
    },
    "language_info": {
      "name": "python"
    }
  },
  "nbformat": 4,
  "nbformat_minor": 0
}